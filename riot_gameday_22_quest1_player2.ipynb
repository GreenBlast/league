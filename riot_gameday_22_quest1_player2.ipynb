{
 "cells": [
  {
   "cell_type": "markdown",
   "id": "5a82c2e7-6aa7-4f34-960e-ba9def645b29",
   "metadata": {},
   "source": [
    "# Quest 1: Build a model for win prediction\n",
    "\n",
    "\n",
    "![Banner image](assets/notebook_intro_any.png)\n",
    "\n",
    "Welcome to AWS GameDay: LoL Esports Edition!\n",
    "\n",
    "You are part of the highly capable, highly motivated, Demacia Data team tasked with developing secret technologies that can see into the future and predict events that have yet to happen.\n",
    "\n",
    "2023 World’s Pick’em has taken Demacia by storm this year; it’s all anyone talks about; it's everywhere!  Who do you think is going to win? What are everyone's Crystal Ball picks? Demacia is obsessed with winning Pick’em (Task 1)! Once we know all the secret answers, your team will be tasked with engineering your own Crystal Ball to predict League of Legends matches (Task 2). Maybe it can help us know who wins Worlds before anyone else!\n",
    "\n",
    "Your team at Demacia Data has been developing a new experiential technology called Machine Learning that may be the answer. The task for you and your team will be to create the most accurate win prediction model for professional League of Legends matches in the shortest amount of time. \n",
    "\n",
    "For this quest we are using Amazon SageMaker Studio. It provides a single, web-based visual interface where we can perform all of the machine learning development steps, such as visualizing data, training a model, and making model predictions.\n",
    "\n",
    "\n",
    "\n",
    "**Good Luck!!!**\n",
    "\n",
    "\n"
   ]
  },
  {
   "cell_type": "markdown",
   "id": "74ff9b03-bf14-42c0-9207-751bd6635e7c",
   "metadata": {},
   "source": [
    "## The cells marked Challenge Questions are harder problems that require coding knowledge, they can be skipped.  Looking at the [Pandas documentation](https://pandas.pydata.org/) or information on [Stackoverflow](https://stackoverflow.com/) will be helpful for the Challenge Questions. You can also ask Amazon Q in the console for help or external services like claude.ai"
   ]
  },
  {
   "cell_type": "markdown",
   "id": "6b9ded56",
   "metadata": {},
   "source": [
    "# Task 1: Pick'em Sneak Peak (Warmup)\n",
    "\n",
    "To get us started, let's see if we can answer some of the Crystal Ball questions from this year's Pick'Em to warm up. For this we will use a different dataset, all games from the 2023 World Championship.\n"
   ]
  },
  {
   "cell_type": "markdown",
   "id": "9181e49f",
   "metadata": {},
   "source": [
    "## Library Imports\n",
    "The first step is to load all the necessary python libraries we will need for model training."
   ]
  },
  {
   "cell_type": "code",
   "execution_count": null,
   "id": "dbb5d1d3-a825-4457-b509-336902891abd",
   "metadata": {},
   "outputs": [],
   "source": [
    "%%capture --no-display\n",
    "!sudo apt-get update\n",
    "!sudo apt install font-manager -qq -y\n",
    "!rm ~/.cache/matplotlib -rf"
   ]
  },
  {
   "cell_type": "code",
   "execution_count": null,
   "id": "5fd69a26",
   "metadata": {
    "tags": []
   },
   "outputs": [],
   "source": [
    "%%capture --no-display\n",
    "!pip install yellowbrick\n",
    "print(\"Installed yellowbrick library for model visualizations\")"
   ]
  },
  {
   "cell_type": "code",
   "execution_count": null,
   "id": "18a9f4a6",
   "metadata": {
    "tags": []
   },
   "outputs": [],
   "source": [
    "import pandas as pd\n",
    "import warnings\n",
    "warnings.filterwarnings('ignore')\n",
    "%matplotlib inline\n",
    "import utils\n",
    "import plotly.express as px\n",
    "from IPython.display import Markdown as md\n",
    "print(\"Imported libraries for data analysis\")"
   ]
  },
  {
   "cell_type": "markdown",
   "id": "a7c7c196",
   "metadata": {},
   "source": [
    "## Load the data\n",
    "Now lets, load the dataset that we have. The dataset contains match data from all of worlds."
   ]
  },
  {
   "cell_type": "code",
   "execution_count": null,
   "id": "30aa2221",
   "metadata": {
    "tags": []
   },
   "outputs": [],
   "source": [
    "df=pd.read_csv(\"LiveStats.csv\")\n",
    "df"
   ]
  },
  {
   "cell_type": "markdown",
   "id": "9f4d9ec3",
   "metadata": {},
   "source": [
    "## Visualize the data\n",
    "The following cells will render visualizations of the data. You can input your answers to each question back in the GameDay Quest website."
   ]
  },
  {
   "cell_type": "markdown",
   "id": "ff4454c9-7952-4fd2-8301-2d8fc41ad495",
   "metadata": {},
   "source": [
    "# Diving into the data\n",
    "\n",
    "When working with big data sets it can be helpful to dive into the data and visualize it and understand the fields you are working with. Throughout the notebook you will be referencing three files:\n",
    "\n",
    "### `LiveStats.csv` - `df` defined above\n",
    "Contains a breakdown of every players performance across every game at Worlds 2023\n",
    "\n",
    "To get column names for the challenge questions you can run `list(df)`\n",
    "\n",
    "### `KDA.csv`\n",
    "This will be used in the KDA section. This contains the overal KDA of every player of Worlds 2023.\n",
    "\n",
    "### `LoL_Data.csv`\n",
    "Contains a lot of years of profesional games including Worlds 2023 games. This will be used only in the model training section. This compares team_x vs team_y and sanatizes the data to remove any bias from what team/region is playing.\n"
   ]
  },
  {
   "cell_type": "markdown",
   "id": "b128ab04-809b-43f6-bf16-60c0b72b29f9",
   "metadata": {},
   "source": [
    "## Question 1.1: Who had the most amount of champion kills in a single game?\n",
    "\n",
    "During a game of League of Legends the object is to destroy the other team's Nexus. During the game you play as a champion that can get kills and assists that can help you get gold and take an advantage to push down one of the three lanes. Usually the higher number of kills and amount of gold captured in a game by a player reflect who is winning in a lane and usually reflects a lead.\n",
    "\n",
    "For this first question let's take a look at what player had the most amount of champion kills in one game."
   ]
  },
  {
   "cell_type": "code",
   "execution_count": null,
   "id": "b22d01bd-4589-4df9-8cf4-ade9b2e807e7",
   "metadata": {
    "tags": []
   },
   "outputs": [],
   "source": [
    "# You can set the column names to any valid data field\n",
    "# To show figures in a notebook you can just use fig.show()\n",
    "fig = px.bar(df, x=\"playerName\", y= \"CHAMPIONS_KILLED\" ,orientation=\"v\")\n",
    "fig.show()"
   ]
  },
  {
   "cell_type": "markdown",
   "id": "278833ad-82e1-4485-9ea4-8c3b9ac9ace2",
   "metadata": {},
   "source": [
    "#### Does this help us a lot? Yes but no.\n",
    "\n",
    "While this graph does allow us to drill down to the answer, it might take us longer to do that then to write some code to sort the data and then output the answer instead. So let's do that."
   ]
  },
  {
   "cell_type": "code",
   "execution_count": null,
   "id": "fd1c13b9-d933-460d-a682-8cf7f379cc3e",
   "metadata": {
    "tags": []
   },
   "outputs": [],
   "source": [
    "# sort_values can be used to sort data frame this can super helpful to dive into parts of the data\n",
    "# by drilling into .playerName we shed all other columns after the sort and now we can just output a list\n",
    "# that is sorted by CHAMPIONS_KILLED then we just can pull the first one off the list at 0\n",
    "\n",
    "# If the python doesnt set a variable or ends with a ; you will see the response\n",
    "\n",
    "# This list will not show since we are setting a variable\n",
    "playername = list(df.sort_values(by=\"CHAMPIONS_KILLED\", ascending=False).playerName)[0]\n",
    "\n",
    "# but we can just call the variable later to output like this\n",
    "playername"
   ]
  },
  {
   "cell_type": "markdown",
   "id": "c1907304-8479-4dba-aeb0-01c9751600c6",
   "metadata": {},
   "source": [
    "## Challenge Question 1.2: What player had the most amount of assists in a single game?\n",
    "\n",
    "Use the knowledge you learned above to see if you can find out what player had the most amount of assists in a game."
   ]
  },
  {
   "cell_type": "code",
   "execution_count": null,
   "id": "7ccab33e-adfa-4e28-87f5-9197556ab868",
   "metadata": {
    "tags": []
   },
   "outputs": [],
   "source": [
    "# Code here"
   ]
  },
  {
   "cell_type": "markdown",
   "id": "7c4438ba",
   "metadata": {},
   "source": [
    "## Challenge Question 1.3: Which team has played the most different (unique) champions?"
   ]
  },
  {
   "cell_type": "code",
   "execution_count": null,
   "id": "f4ba416b",
   "metadata": {
    "tags": []
   },
   "outputs": [],
   "source": [
    "# Enter code"
   ]
  },
  {
   "cell_type": "markdown",
   "id": "751d535d",
   "metadata": {},
   "source": [
    "## Question 1.4: Which champion with at least 5 games played has the highest win-rate at Worlds?\n",
    "\n",
    "### Champion Win Rate\n",
    "The following visualization shows an aggregation of the champion win rate by games played. "
   ]
  },
  {
   "cell_type": "code",
   "execution_count": null,
   "id": "13ea3c8f",
   "metadata": {},
   "outputs": [],
   "source": [
    "df[\"games_played\"] = 1\n",
    "color_seq = px.colors.qualitative.Dark24 + px.colors.qualitative.Alphabet + px.colors.qualitative.Pastel1 + px.colors.qualitative.Pastel2\n",
    "df_champions = df.groupby('championName').agg({'games_played':'sum', 'WINNER': 'mean'}).reset_index()\n",
    "fig = px.scatter(df_champions, x=\"games_played\", y=\"WINNER\",color=\"championName\",size=\"games_played\",color_discrete_sequence=color_seq)\n",
    "fig.show()"
   ]
  },
  {
   "cell_type": "markdown",
   "id": "e3bb36f8-0084-4737-b752-76b3d1a10f4d",
   "metadata": {},
   "source": [
    "## Challenge Question 1.5: Which champion has the most total deaths over all games?"
   ]
  },
  {
   "cell_type": "code",
   "execution_count": null,
   "id": "199b7f5e",
   "metadata": {},
   "outputs": [],
   "source": [
    "# Enter code"
   ]
  },
  {
   "cell_type": "markdown",
   "id": "fe30b6e5-fca7-4bd8-bfc0-5cf4e95f6d2f",
   "metadata": {},
   "source": [
    "## Kills/Deaths/Assists (KDA) Data\n",
    "The following visualization shows an aggregation of all the games in the dataset highlighting each player champion KDA Average. For the next few question we will take a look at KDA and how it impacts the final result of T1 winning Worlds 2023.\n",
    "\n",
    "### What is KDA and how is it calculated:\n",
    "KDA is an acronym for kills/deaths/assists and it is a simple formula of (kills + assists)/deaths. Players believe that this stat usually reflects a players performance in a game. At a pro level, KDA is sometimes can be a misleading stat to how that player is performing overall in the tournament/game and can even be different with the different roles in the game. \n",
    "\n",
    "\n",
    "## Question 1.6 Which player has the highest KDA in Worlds 2023?"
   ]
  },
  {
   "cell_type": "code",
   "execution_count": null,
   "id": "dc1f9faa",
   "metadata": {
    "tags": []
   },
   "outputs": [],
   "source": [
    "df_kda_10 = pd.read_csv(\"KDA.csv\")\n",
    "fig = px.bar(df_kda_10, x=\"name\", y= \"kda\" ,orientation=\"v\")\n",
    "fig.show()"
   ]
  },
  {
   "cell_type": "markdown",
   "id": "dba751b5-b1ac-41bd-a893-b162fb2cc5a0",
   "metadata": {
    "tags": []
   },
   "source": [
    "## Challenge Question 1.7: What was the best KDA for a single game? \n",
    "\n",
    "If the player had 0 deaths consider that a perfect game i.e. highest possible KDA and for this question just add the players kills and assists.\n",
    "\n",
    "**Notes**: \n",
    "- Use the `df` as it has every player break down. The fields you will need are: `CHAMPIONS_KILLED`, `ASSISTS`, `NUM_DEATHS`\n",
    "- You will need to create a new column from the above fields. Recommend looking at the documentation of `DataFrame.apply`\n"
   ]
  },
  {
   "cell_type": "code",
   "execution_count": null,
   "id": "2443bbc5-2af0-4000-b561-4969560738b4",
   "metadata": {
    "tags": []
   },
   "outputs": [],
   "source": [
    "# Write code"
   ]
  },
  {
   "cell_type": "markdown",
   "id": "bcacfd5e-9c91-4913-84bc-915fe2c004b9",
   "metadata": {},
   "source": [
    "## Challenge Question 1.8: How many total kills did players playing the champion Renekton, Ahri, and Rell across all games at Worlds 23?"
   ]
  },
  {
   "cell_type": "code",
   "execution_count": null,
   "id": "933fe153",
   "metadata": {},
   "outputs": [],
   "source": [
    "#Write code here"
   ]
  },
  {
   "cell_type": "markdown",
   "id": "a6d57c89-cc20-402f-9f85-f4a54b8ccd16",
   "metadata": {},
   "source": [
    "## Challenge Question 1.9: Which player played Alistar the most at Worlds 2023?"
   ]
  },
  {
   "cell_type": "code",
   "execution_count": null,
   "id": "93b4bc6c",
   "metadata": {},
   "outputs": [],
   "source": [
    "#Write code here"
   ]
  },
  {
   "cell_type": "markdown",
   "id": "58a50ced",
   "metadata": {},
   "source": [
    "# Task 2: Model Training\n",
    "\n",
    "Now that we have honed some of our data analysis skills on the worlds dataset, lets jump something more ambitious: Using all games from worlds qualifying regions in 2022 to try to build a model that can predict the outcome of games with data from the 15-minute mark only."
   ]
  },
  {
   "cell_type": "code",
   "execution_count": null,
   "id": "2a15a69c",
   "metadata": {
    "tags": []
   },
   "outputs": [],
   "source": [
    "df = pd.read_csv(\"LoL_Data.csv\")\n",
    "df"
   ]
  },
  {
   "cell_type": "markdown",
   "id": "f0a0f588",
   "metadata": {},
   "source": [
    "## Model Training\n",
    "This dataset strips out information such as team name and other identifiers. Each row in the dataset has team-based stats such as tower kills or champion kills. The target value is the `winningteamoutput`. \n",
    "\n",
    "The following cell will train a model that can make a prediction based on all the other columns values and output which team will win.\n"
   ]
  },
  {
   "cell_type": "code",
   "execution_count": null,
   "id": "6cd9f134",
   "metadata": {},
   "outputs": [],
   "source": [
    "# Train and evaluate the model with our helper function\n",
    "init_model, model_score = utils.train_and_eval_model(df)\n",
    "md(f\"## The model accuracy is {round(model_score,3)}\")"
   ]
  },
  {
   "cell_type": "markdown",
   "id": "7968db1c",
   "metadata": {},
   "source": [
    "## Model Results\n",
    "The initial results indicate that this model is able to predict the correct winning output of a game with data from the 15 minute mark around 73% of the time correctly.\n",
    "\n",
    "Here is a more detailed breakdown of what each of the numbers mean.\n",
    "\n",
    "### Precision\n",
    "Precision can be seen as a measure of a classifier’s exactness. For each class, it is defined as the ratio of true positives to the sum of true and false positives. Said another way, “for all instances classified positive, what percent was correct?”\n",
    "\n",
    "### Recall\n",
    "Recall is a measure of the classifier’s completeness; the ability of a classifier to correctly find all positive instances. For each class, it is defined as the ratio of true positives to the sum of true positives and false negatives. Said another way, “for all instances that were actually positive, what percent was classified correctly?”\n",
    "\n",
    "### F1\n",
    "The F1 score is a weighted harmonic mean of precision and recall such that the best score is 1.0 and the worst is 0.0. Generally speaking, F1 scores are lower than accuracy measures as they embed precision and recall into their computation. As a rule of thumb, the weighted average of F1 should be used to compare classifier models, not global accuracy."
   ]
  },
  {
   "cell_type": "markdown",
   "id": "8449d509",
   "metadata": {},
   "source": [
    "## Choose Your features!!!\n",
    "\n",
    "![Chaos event](assets/lol_gameday_team_v_team_banner.png)\n",
    "\n",
    "To test how well you understand League of Legends, we want to see if you can train a model using up to only **6 features**.\n",
    "\n",
    "Your team must decide which features you want to use for the model. \n",
    "\n",
    "We will provide some sample models for you to get started, but ultimately your team must decide which model you want to submit for this quest.\n",
    "\n"
   ]
  },
  {
   "cell_type": "code",
   "execution_count": null,
   "id": "e488b529",
   "metadata": {},
   "outputs": [],
   "source": [
    "## This model is based on baron kills\n",
    "\n",
    "# Team stats\n",
    "df_baron = df[\n",
    "    [\n",
    "        \"winningteamoutput\",\n",
    "        \"baronkills_x\",\n",
    "        \"baronkills_y\",\n",
    "    ]\n",
    "]\n",
    "\n",
    "baron_model, model_score = utils.train_and_eval_model(df_baron)\n",
    "md(f\"## The model accuracy is {round(model_score,3)}\")"
   ]
  },
  {
   "cell_type": "markdown",
   "id": "dd0032ec",
   "metadata": {},
   "source": [
    "## Bad Model?\n",
    "Why do you think the baron only model didn’t produce good results?  \n",
    "**Note:** This is not a question on the Quest website"
   ]
  },
  {
   "cell_type": "code",
   "execution_count": null,
   "id": "0b72f471",
   "metadata": {},
   "outputs": [],
   "source": [
    "# Dragon and Minions\n",
    "df_db = df[\n",
    "    [\n",
    "        \"winningteamoutput\",\n",
    "        \"dragonkills_x\",\n",
    "        \"dragonkills_y\",\n",
    "        'team_x_minions_killed',\n",
    "        'team_y_minions_killed',\n",
    "    ]\n",
    "]\n",
    "\n",
    "db_model, model_score = utils.train_and_eval_model(df_db)\n",
    "md(f\"## The model accuracy is {round(model_score,3)}\")"
   ]
  },
  {
   "cell_type": "code",
   "execution_count": null,
   "id": "3d329c02",
   "metadata": {},
   "outputs": [],
   "source": [
    "# Wards placed and killed\n",
    "df_w = df[\n",
    "    [\n",
    "        \"winningteamoutput\",\n",
    "        \"team_x_ward_kills\",\n",
    "        \"team_y_ward_kills\",\n",
    "        \"team_x_ward_placed\",\n",
    "        \"team_y_ward_placed\",\n",
    "    ]\n",
    "]\n",
    "\n",
    "w_model, model_score = utils.train_and_eval_model(df_w)\n",
    "md(f\"## The model accuracy is {round(model_score,3)}\")"
   ]
  },
  {
   "cell_type": "code",
   "execution_count": null,
   "id": "36a3632e",
   "metadata": {},
   "outputs": [],
   "source": [
    "# Damage Model\n",
    "\n",
    "df_dhc = df[\n",
    "    [\n",
    "        \"winningteamoutput\",\n",
    "        \"team_x_physical_damage_dealt_to_champions\",\n",
    "        \"team_y_physical_damage_dealt_to_champions\",\n",
    "        \"team_x_magic_damage_dealt_to_champions\",\n",
    "        \"team_y_magic_damage_dealt_to_champions\",\n",
    "        \"team_x_true_damage_dealt_to_champions\",\n",
    "        \"team_y_true_damage_dealt_to_champions\",\n",
    "    ]\n",
    "]\n",
    "\n",
    "dhc_model, model_score = utils.train_and_eval_model(df_dhc)\n",
    "md(f\"## The model accuracy is {round(model_score,3)}\")"
   ]
  },
  {
   "cell_type": "markdown",
   "id": "69f67948",
   "metadata": {},
   "source": [
    "## Feature List\n",
    "Here are the list of features, what will you choose for your model?"
   ]
  },
  {
   "cell_type": "code",
   "execution_count": null,
   "id": "5bfca1dd",
   "metadata": {},
   "outputs": [],
   "source": [
    "list(df.columns)"
   ]
  },
  {
   "cell_type": "markdown",
   "id": "d31422de",
   "metadata": {},
   "source": [
    "## Training your model\n",
    "Try different feature sets before submitting. Once your feature set is submitted, you will not be able to change and you have to train your final model with the exact same feature set."
   ]
  },
  {
   "cell_type": "code",
   "execution_count": null,
   "id": "133272c4",
   "metadata": {},
   "outputs": [],
   "source": [
    "## Create your own model to test\n",
    "df_my_data = df[\n",
    "    [\n",
    "        \"winningteamoutput\", # REQUIRED FIELD\n",
    "        ### Insert up to 6 features\n",
    "    ]\n",
    "]\n",
    "\n",
    "MY_MODEL, model_score = utils.train_and_eval_model(df_my_data)\n",
    "md(f\"## The model accuracy is {round(model_score,3)}\")"
   ]
  },
  {
   "cell_type": "markdown",
   "id": "779f8005",
   "metadata": {},
   "source": [
    "## 2.1 Model features\n",
    "The code below will print out a string to input into the GameDay website based on your model features"
   ]
  },
  {
   "cell_type": "code",
   "execution_count": null,
   "id": "ad45a4c2",
   "metadata": {},
   "outputs": [],
   "source": [
    "input_string = \"\"\n",
    "cols = list(df_my_data.columns)\n",
    "for col in cols:\n",
    "    if col == \"winningteamoutput\":\n",
    "        continue\n",
    "    input_string += col + \",\"\n",
    "\n",
    "\n",
    "input_string = input_string[:-1]\n",
    "input_string"
   ]
  },
  {
   "cell_type": "markdown",
   "id": "f08483ae",
   "metadata": {},
   "source": [
    "## 2.2 Upload your model\n",
    "When you’re ready to upload your model, run the following cells, to create a model endpoint.  \n",
    "In the Quest UI, enter the features you have chosen and the model’s name. \n",
    "\n",
    "This will run the evaluation script that will score your model based on the number of correct predictions from the Riot evaluation set (correct_predictions/total_number_of_games).\n",
    "\n",
    "This will take around 5 minutes.\n"
   ]
  },
  {
   "cell_type": "code",
   "execution_count": null,
   "id": "6c26455b",
   "metadata": {},
   "outputs": [],
   "source": [
    "## Enter your model\n",
    "utils.create_model_endpoint(MY_MODEL)"
   ]
  }
 ],
 "metadata": {
  "availableInstances": [
   {
    "_defaultOrder": 0,
    "_isFastLaunch": true,
    "category": "General purpose",
    "gpuNum": 0,
    "hideHardwareSpecs": false,
    "memoryGiB": 4,
    "name": "ml.t3.medium",
    "vcpuNum": 2
   },
   {
    "_defaultOrder": 1,
    "_isFastLaunch": false,
    "category": "General purpose",
    "gpuNum": 0,
    "hideHardwareSpecs": false,
    "memoryGiB": 8,
    "name": "ml.t3.large",
    "vcpuNum": 2
   },
   {
    "_defaultOrder": 2,
    "_isFastLaunch": false,
    "category": "General purpose",
    "gpuNum": 0,
    "hideHardwareSpecs": false,
    "memoryGiB": 16,
    "name": "ml.t3.xlarge",
    "vcpuNum": 4
   },
   {
    "_defaultOrder": 3,
    "_isFastLaunch": false,
    "category": "General purpose",
    "gpuNum": 0,
    "hideHardwareSpecs": false,
    "memoryGiB": 32,
    "name": "ml.t3.2xlarge",
    "vcpuNum": 8
   },
   {
    "_defaultOrder": 4,
    "_isFastLaunch": true,
    "category": "General purpose",
    "gpuNum": 0,
    "hideHardwareSpecs": false,
    "memoryGiB": 8,
    "name": "ml.m5.large",
    "vcpuNum": 2
   },
   {
    "_defaultOrder": 5,
    "_isFastLaunch": false,
    "category": "General purpose",
    "gpuNum": 0,
    "hideHardwareSpecs": false,
    "memoryGiB": 16,
    "name": "ml.m5.xlarge",
    "vcpuNum": 4
   },
   {
    "_defaultOrder": 6,
    "_isFastLaunch": false,
    "category": "General purpose",
    "gpuNum": 0,
    "hideHardwareSpecs": false,
    "memoryGiB": 32,
    "name": "ml.m5.2xlarge",
    "vcpuNum": 8
   },
   {
    "_defaultOrder": 7,
    "_isFastLaunch": false,
    "category": "General purpose",
    "gpuNum": 0,
    "hideHardwareSpecs": false,
    "memoryGiB": 64,
    "name": "ml.m5.4xlarge",
    "vcpuNum": 16
   },
   {
    "_defaultOrder": 8,
    "_isFastLaunch": false,
    "category": "General purpose",
    "gpuNum": 0,
    "hideHardwareSpecs": false,
    "memoryGiB": 128,
    "name": "ml.m5.8xlarge",
    "vcpuNum": 32
   },
   {
    "_defaultOrder": 9,
    "_isFastLaunch": false,
    "category": "General purpose",
    "gpuNum": 0,
    "hideHardwareSpecs": false,
    "memoryGiB": 192,
    "name": "ml.m5.12xlarge",
    "vcpuNum": 48
   },
   {
    "_defaultOrder": 10,
    "_isFastLaunch": false,
    "category": "General purpose",
    "gpuNum": 0,
    "hideHardwareSpecs": false,
    "memoryGiB": 256,
    "name": "ml.m5.16xlarge",
    "vcpuNum": 64
   },
   {
    "_defaultOrder": 11,
    "_isFastLaunch": false,
    "category": "General purpose",
    "gpuNum": 0,
    "hideHardwareSpecs": false,
    "memoryGiB": 384,
    "name": "ml.m5.24xlarge",
    "vcpuNum": 96
   },
   {
    "_defaultOrder": 12,
    "_isFastLaunch": false,
    "category": "General purpose",
    "gpuNum": 0,
    "hideHardwareSpecs": false,
    "memoryGiB": 8,
    "name": "ml.m5d.large",
    "vcpuNum": 2
   },
   {
    "_defaultOrder": 13,
    "_isFastLaunch": false,
    "category": "General purpose",
    "gpuNum": 0,
    "hideHardwareSpecs": false,
    "memoryGiB": 16,
    "name": "ml.m5d.xlarge",
    "vcpuNum": 4
   },
   {
    "_defaultOrder": 14,
    "_isFastLaunch": false,
    "category": "General purpose",
    "gpuNum": 0,
    "hideHardwareSpecs": false,
    "memoryGiB": 32,
    "name": "ml.m5d.2xlarge",
    "vcpuNum": 8
   },
   {
    "_defaultOrder": 15,
    "_isFastLaunch": false,
    "category": "General purpose",
    "gpuNum": 0,
    "hideHardwareSpecs": false,
    "memoryGiB": 64,
    "name": "ml.m5d.4xlarge",
    "vcpuNum": 16
   },
   {
    "_defaultOrder": 16,
    "_isFastLaunch": false,
    "category": "General purpose",
    "gpuNum": 0,
    "hideHardwareSpecs": false,
    "memoryGiB": 128,
    "name": "ml.m5d.8xlarge",
    "vcpuNum": 32
   },
   {
    "_defaultOrder": 17,
    "_isFastLaunch": false,
    "category": "General purpose",
    "gpuNum": 0,
    "hideHardwareSpecs": false,
    "memoryGiB": 192,
    "name": "ml.m5d.12xlarge",
    "vcpuNum": 48
   },
   {
    "_defaultOrder": 18,
    "_isFastLaunch": false,
    "category": "General purpose",
    "gpuNum": 0,
    "hideHardwareSpecs": false,
    "memoryGiB": 256,
    "name": "ml.m5d.16xlarge",
    "vcpuNum": 64
   },
   {
    "_defaultOrder": 19,
    "_isFastLaunch": false,
    "category": "General purpose",
    "gpuNum": 0,
    "hideHardwareSpecs": false,
    "memoryGiB": 384,
    "name": "ml.m5d.24xlarge",
    "vcpuNum": 96
   },
   {
    "_defaultOrder": 20,
    "_isFastLaunch": false,
    "category": "General purpose",
    "gpuNum": 0,
    "hideHardwareSpecs": true,
    "memoryGiB": 0,
    "name": "ml.geospatial.interactive",
    "supportedImageNames": [
     "sagemaker-geospatial-v1-0"
    ],
    "vcpuNum": 0
   },
   {
    "_defaultOrder": 21,
    "_isFastLaunch": true,
    "category": "Compute optimized",
    "gpuNum": 0,
    "hideHardwareSpecs": false,
    "memoryGiB": 4,
    "name": "ml.c5.large",
    "vcpuNum": 2
   },
   {
    "_defaultOrder": 22,
    "_isFastLaunch": false,
    "category": "Compute optimized",
    "gpuNum": 0,
    "hideHardwareSpecs": false,
    "memoryGiB": 8,
    "name": "ml.c5.xlarge",
    "vcpuNum": 4
   },
   {
    "_defaultOrder": 23,
    "_isFastLaunch": false,
    "category": "Compute optimized",
    "gpuNum": 0,
    "hideHardwareSpecs": false,
    "memoryGiB": 16,
    "name": "ml.c5.2xlarge",
    "vcpuNum": 8
   },
   {
    "_defaultOrder": 24,
    "_isFastLaunch": false,
    "category": "Compute optimized",
    "gpuNum": 0,
    "hideHardwareSpecs": false,
    "memoryGiB": 32,
    "name": "ml.c5.4xlarge",
    "vcpuNum": 16
   },
   {
    "_defaultOrder": 25,
    "_isFastLaunch": false,
    "category": "Compute optimized",
    "gpuNum": 0,
    "hideHardwareSpecs": false,
    "memoryGiB": 72,
    "name": "ml.c5.9xlarge",
    "vcpuNum": 36
   },
   {
    "_defaultOrder": 26,
    "_isFastLaunch": false,
    "category": "Compute optimized",
    "gpuNum": 0,
    "hideHardwareSpecs": false,
    "memoryGiB": 96,
    "name": "ml.c5.12xlarge",
    "vcpuNum": 48
   },
   {
    "_defaultOrder": 27,
    "_isFastLaunch": false,
    "category": "Compute optimized",
    "gpuNum": 0,
    "hideHardwareSpecs": false,
    "memoryGiB": 144,
    "name": "ml.c5.18xlarge",
    "vcpuNum": 72
   },
   {
    "_defaultOrder": 28,
    "_isFastLaunch": false,
    "category": "Compute optimized",
    "gpuNum": 0,
    "hideHardwareSpecs": false,
    "memoryGiB": 192,
    "name": "ml.c5.24xlarge",
    "vcpuNum": 96
   },
   {
    "_defaultOrder": 29,
    "_isFastLaunch": true,
    "category": "Accelerated computing",
    "gpuNum": 1,
    "hideHardwareSpecs": false,
    "memoryGiB": 16,
    "name": "ml.g4dn.xlarge",
    "vcpuNum": 4
   },
   {
    "_defaultOrder": 30,
    "_isFastLaunch": false,
    "category": "Accelerated computing",
    "gpuNum": 1,
    "hideHardwareSpecs": false,
    "memoryGiB": 32,
    "name": "ml.g4dn.2xlarge",
    "vcpuNum": 8
   },
   {
    "_defaultOrder": 31,
    "_isFastLaunch": false,
    "category": "Accelerated computing",
    "gpuNum": 1,
    "hideHardwareSpecs": false,
    "memoryGiB": 64,
    "name": "ml.g4dn.4xlarge",
    "vcpuNum": 16
   },
   {
    "_defaultOrder": 32,
    "_isFastLaunch": false,
    "category": "Accelerated computing",
    "gpuNum": 1,
    "hideHardwareSpecs": false,
    "memoryGiB": 128,
    "name": "ml.g4dn.8xlarge",
    "vcpuNum": 32
   },
   {
    "_defaultOrder": 33,
    "_isFastLaunch": false,
    "category": "Accelerated computing",
    "gpuNum": 4,
    "hideHardwareSpecs": false,
    "memoryGiB": 192,
    "name": "ml.g4dn.12xlarge",
    "vcpuNum": 48
   },
   {
    "_defaultOrder": 34,
    "_isFastLaunch": false,
    "category": "Accelerated computing",
    "gpuNum": 1,
    "hideHardwareSpecs": false,
    "memoryGiB": 256,
    "name": "ml.g4dn.16xlarge",
    "vcpuNum": 64
   },
   {
    "_defaultOrder": 35,
    "_isFastLaunch": false,
    "category": "Accelerated computing",
    "gpuNum": 1,
    "hideHardwareSpecs": false,
    "memoryGiB": 61,
    "name": "ml.p3.2xlarge",
    "vcpuNum": 8
   },
   {
    "_defaultOrder": 36,
    "_isFastLaunch": false,
    "category": "Accelerated computing",
    "gpuNum": 4,
    "hideHardwareSpecs": false,
    "memoryGiB": 244,
    "name": "ml.p3.8xlarge",
    "vcpuNum": 32
   },
   {
    "_defaultOrder": 37,
    "_isFastLaunch": false,
    "category": "Accelerated computing",
    "gpuNum": 8,
    "hideHardwareSpecs": false,
    "memoryGiB": 488,
    "name": "ml.p3.16xlarge",
    "vcpuNum": 64
   },
   {
    "_defaultOrder": 38,
    "_isFastLaunch": false,
    "category": "Accelerated computing",
    "gpuNum": 8,
    "hideHardwareSpecs": false,
    "memoryGiB": 768,
    "name": "ml.p3dn.24xlarge",
    "vcpuNum": 96
   },
   {
    "_defaultOrder": 39,
    "_isFastLaunch": false,
    "category": "Memory Optimized",
    "gpuNum": 0,
    "hideHardwareSpecs": false,
    "memoryGiB": 16,
    "name": "ml.r5.large",
    "vcpuNum": 2
   },
   {
    "_defaultOrder": 40,
    "_isFastLaunch": false,
    "category": "Memory Optimized",
    "gpuNum": 0,
    "hideHardwareSpecs": false,
    "memoryGiB": 32,
    "name": "ml.r5.xlarge",
    "vcpuNum": 4
   },
   {
    "_defaultOrder": 41,
    "_isFastLaunch": false,
    "category": "Memory Optimized",
    "gpuNum": 0,
    "hideHardwareSpecs": false,
    "memoryGiB": 64,
    "name": "ml.r5.2xlarge",
    "vcpuNum": 8
   },
   {
    "_defaultOrder": 42,
    "_isFastLaunch": false,
    "category": "Memory Optimized",
    "gpuNum": 0,
    "hideHardwareSpecs": false,
    "memoryGiB": 128,
    "name": "ml.r5.4xlarge",
    "vcpuNum": 16
   },
   {
    "_defaultOrder": 43,
    "_isFastLaunch": false,
    "category": "Memory Optimized",
    "gpuNum": 0,
    "hideHardwareSpecs": false,
    "memoryGiB": 256,
    "name": "ml.r5.8xlarge",
    "vcpuNum": 32
   },
   {
    "_defaultOrder": 44,
    "_isFastLaunch": false,
    "category": "Memory Optimized",
    "gpuNum": 0,
    "hideHardwareSpecs": false,
    "memoryGiB": 384,
    "name": "ml.r5.12xlarge",
    "vcpuNum": 48
   },
   {
    "_defaultOrder": 45,
    "_isFastLaunch": false,
    "category": "Memory Optimized",
    "gpuNum": 0,
    "hideHardwareSpecs": false,
    "memoryGiB": 512,
    "name": "ml.r5.16xlarge",
    "vcpuNum": 64
   },
   {
    "_defaultOrder": 46,
    "_isFastLaunch": false,
    "category": "Memory Optimized",
    "gpuNum": 0,
    "hideHardwareSpecs": false,
    "memoryGiB": 768,
    "name": "ml.r5.24xlarge",
    "vcpuNum": 96
   },
   {
    "_defaultOrder": 47,
    "_isFastLaunch": false,
    "category": "Accelerated computing",
    "gpuNum": 1,
    "hideHardwareSpecs": false,
    "memoryGiB": 16,
    "name": "ml.g5.xlarge",
    "vcpuNum": 4
   },
   {
    "_defaultOrder": 48,
    "_isFastLaunch": false,
    "category": "Accelerated computing",
    "gpuNum": 1,
    "hideHardwareSpecs": false,
    "memoryGiB": 32,
    "name": "ml.g5.2xlarge",
    "vcpuNum": 8
   },
   {
    "_defaultOrder": 49,
    "_isFastLaunch": false,
    "category": "Accelerated computing",
    "gpuNum": 1,
    "hideHardwareSpecs": false,
    "memoryGiB": 64,
    "name": "ml.g5.4xlarge",
    "vcpuNum": 16
   },
   {
    "_defaultOrder": 50,
    "_isFastLaunch": false,
    "category": "Accelerated computing",
    "gpuNum": 1,
    "hideHardwareSpecs": false,
    "memoryGiB": 128,
    "name": "ml.g5.8xlarge",
    "vcpuNum": 32
   },
   {
    "_defaultOrder": 51,
    "_isFastLaunch": false,
    "category": "Accelerated computing",
    "gpuNum": 1,
    "hideHardwareSpecs": false,
    "memoryGiB": 256,
    "name": "ml.g5.16xlarge",
    "vcpuNum": 64
   },
   {
    "_defaultOrder": 52,
    "_isFastLaunch": false,
    "category": "Accelerated computing",
    "gpuNum": 4,
    "hideHardwareSpecs": false,
    "memoryGiB": 192,
    "name": "ml.g5.12xlarge",
    "vcpuNum": 48
   },
   {
    "_defaultOrder": 53,
    "_isFastLaunch": false,
    "category": "Accelerated computing",
    "gpuNum": 4,
    "hideHardwareSpecs": false,
    "memoryGiB": 384,
    "name": "ml.g5.24xlarge",
    "vcpuNum": 96
   },
   {
    "_defaultOrder": 54,
    "_isFastLaunch": false,
    "category": "Accelerated computing",
    "gpuNum": 8,
    "hideHardwareSpecs": false,
    "memoryGiB": 768,
    "name": "ml.g5.48xlarge",
    "vcpuNum": 192
   },
   {
    "_defaultOrder": 55,
    "_isFastLaunch": false,
    "category": "Accelerated computing",
    "gpuNum": 8,
    "hideHardwareSpecs": false,
    "memoryGiB": 1152,
    "name": "ml.p4d.24xlarge",
    "vcpuNum": 96
   },
   {
    "_defaultOrder": 56,
    "_isFastLaunch": false,
    "category": "Accelerated computing",
    "gpuNum": 8,
    "hideHardwareSpecs": false,
    "memoryGiB": 1152,
    "name": "ml.p4de.24xlarge",
    "vcpuNum": 96
   },
   {
    "_defaultOrder": 57,
    "_isFastLaunch": false,
    "category": "Accelerated computing",
    "gpuNum": 0,
    "hideHardwareSpecs": false,
    "memoryGiB": 32,
    "name": "ml.trn1.2xlarge",
    "vcpuNum": 8
   },
   {
    "_defaultOrder": 58,
    "_isFastLaunch": false,
    "category": "Accelerated computing",
    "gpuNum": 0,
    "hideHardwareSpecs": false,
    "memoryGiB": 512,
    "name": "ml.trn1.32xlarge",
    "vcpuNum": 128
   },
   {
    "_defaultOrder": 59,
    "_isFastLaunch": false,
    "category": "Accelerated computing",
    "gpuNum": 0,
    "hideHardwareSpecs": false,
    "memoryGiB": 512,
    "name": "ml.trn1n.32xlarge",
    "vcpuNum": 128
   }
  ],
  "instance_type": "ml.t3.medium",
  "kernelspec": {
   "display_name": "Python 3 (ipykernel)",
   "language": "python",
   "name": "python3"
  },
  "language_info": {
   "codemirror_mode": {
    "name": "ipython",
    "version": 3
   },
   "file_extension": ".py",
   "mimetype": "text/x-python",
   "name": "python",
   "nbconvert_exporter": "python",
   "pygments_lexer": "ipython3",
   "version": "3.11.10"
  }
 },
 "nbformat": 4,
 "nbformat_minor": 5
}
